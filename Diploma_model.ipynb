{
 "cells": [
  {
   "cell_type": "code",
   "execution_count": 9,
   "metadata": {},
   "outputs": [],
   "source": [
    "import pandas as pd\n",
    "import numpy as np\n",
    "import scorecardpy as sc\n",
    "import matplotlib.pyplot as plt\n",
    "import matplotlib\n",
    "from IPython.display import HTML, display\n",
    "from sklearn.linear_model import LogisticRegression\n",
    "from sklearn import metrics"
   ]
  },
  {
   "cell_type": "code",
   "execution_count": 10,
   "metadata": {},
   "outputs": [],
   "source": [
    "pd.set_option('display.max_columns', None)"
   ]
  },
  {
   "cell_type": "markdown",
   "metadata": {},
   "source": [
    "### Выгрузка данных и пробработка данных"
   ]
  },
  {
   "cell_type": "code",
   "execution_count": 11,
   "metadata": {},
   "outputs": [],
   "source": [
    "df = pd.read_excel('BB_Wave1-3_MATCH_FILES_Coord_f2f_v1_New.xlsx')\n",
    "directory = pd.read_excel('BB_Wave1-3_MATCH_FILES_Coord_f2f_v1_New.xlsx', sheet_name=1)"
   ]
  },
  {
   "cell_type": "code",
   "execution_count": 12,
   "metadata": {},
   "outputs": [],
   "source": [
    "task1_df = df.copy()\n",
    "task1_df = task1_df[task1_df['Wave_number'] != 3]\n",
    "task1_df = task1_df[['V1', 'C3', 'C5', 'C8', 'B3', 'B4', 'B6']]\n",
    "task1_df['B6'].replace({2: 3, 3: 2}, inplace =True)"
   ]
  },
  {
   "cell_type": "code",
   "execution_count": 13,
   "metadata": {},
   "outputs": [
    {
     "data": {
      "text/plain": [
       "array([5, 7, 12, 18, 21, 23, 26, 32, 35, 46, 48, 51, 53, 56, 59, 61, 63,\n",
       "       65, 68, 71, 73, 74, 80], dtype=object)"
      ]
     },
     "execution_count": 13,
     "metadata": {},
     "output_type": "execute_result"
    }
   ],
   "source": [
    "task1_df['V1'].unique()"
   ]
  },
  {
   "cell_type": "code",
   "execution_count": 14,
   "metadata": {
    "scrolled": false
   },
   "outputs": [
    {
     "name": "stdout",
     "output_type": "stream",
     "text": [
      "5 : 120  3.862246540070808\n",
      "7 : 125  4.023173479240425\n",
      "12 : 193  6.211779851947216\n",
      "18 : 146  4.699066623752816\n",
      "21 : 100  3.21853878339234\n",
      "23 : 119  3.8300611522368846\n",
      "26 : 126  4.055358867074348\n",
      "32 : 121  3.8944319279047312\n",
      "35 : 80  2.574831026713872\n",
      "46 : 199  6.404892178950757\n",
      "48 : 120  3.862246540070808\n",
      "51 : 207  6.662375281622143\n",
      "53 : 127  4.087544254908272\n",
      "56 : 127  4.087544254908272\n",
      "59 : 109  3.5082072738976504\n",
      "61 : 124  3.9909880914065012\n",
      "63 : 159  5.11747666559382\n",
      "65 : 120  3.862246540070808\n",
      "68 : 120  3.862246540070808\n",
      "71 : 122  3.9266173157386546\n",
      "73 : 119  3.8300611522368846\n",
      "74 : 85  2.7357579658834887\n",
      "80 : 239  7.6923076923076925\n"
     ]
    }
   ],
   "source": [
    "for i in task1_df['V1'].unique():\n",
    "    print(f'{i} : { len(task1_df[task1_df[\"V1\"]==i]) }  { len(task1_df[task1_df[\"V1\"]==i])*100/len(task1_df) }')"
   ]
  },
  {
   "cell_type": "code",
   "execution_count": 15,
   "metadata": {},
   "outputs": [
    {
     "data": {
      "text/html": [
       "<div>\n",
       "<style scoped>\n",
       "    .dataframe tbody tr th:only-of-type {\n",
       "        vertical-align: middle;\n",
       "    }\n",
       "\n",
       "    .dataframe tbody tr th {\n",
       "        vertical-align: top;\n",
       "    }\n",
       "\n",
       "    .dataframe thead th {\n",
       "        text-align: right;\n",
       "    }\n",
       "</style>\n",
       "<table border=\"1\" class=\"dataframe\">\n",
       "  <thead>\n",
       "    <tr style=\"text-align: right;\">\n",
       "      <th></th>\n",
       "      <th>V1</th>\n",
       "      <th>C3</th>\n",
       "      <th>C5</th>\n",
       "      <th>C8</th>\n",
       "      <th>B3</th>\n",
       "      <th>B4</th>\n",
       "      <th>B6</th>\n",
       "    </tr>\n",
       "  </thead>\n",
       "  <tbody>\n",
       "    <tr>\n",
       "      <th>0</th>\n",
       "      <td>5</td>\n",
       "      <td>1</td>\n",
       "      <td>24</td>\n",
       "      <td>3</td>\n",
       "      <td>2</td>\n",
       "      <td>2</td>\n",
       "      <td>1</td>\n",
       "    </tr>\n",
       "    <tr>\n",
       "      <th>1</th>\n",
       "      <td>5</td>\n",
       "      <td>2</td>\n",
       "      <td>26</td>\n",
       "      <td>4</td>\n",
       "      <td>1</td>\n",
       "      <td>1</td>\n",
       "      <td>1</td>\n",
       "    </tr>\n",
       "    <tr>\n",
       "      <th>2</th>\n",
       "      <td>5</td>\n",
       "      <td>3</td>\n",
       "      <td>30</td>\n",
       "      <td>3</td>\n",
       "      <td>1</td>\n",
       "      <td>1</td>\n",
       "      <td>1</td>\n",
       "    </tr>\n",
       "    <tr>\n",
       "      <th>3</th>\n",
       "      <td>5</td>\n",
       "      <td>2</td>\n",
       "      <td>38</td>\n",
       "      <td>4</td>\n",
       "      <td>1</td>\n",
       "      <td>1</td>\n",
       "      <td>1</td>\n",
       "    </tr>\n",
       "    <tr>\n",
       "      <th>4</th>\n",
       "      <td>5</td>\n",
       "      <td>2</td>\n",
       "      <td>26</td>\n",
       "      <td>2</td>\n",
       "      <td>1</td>\n",
       "      <td>1</td>\n",
       "      <td>1</td>\n",
       "    </tr>\n",
       "    <tr>\n",
       "      <th>...</th>\n",
       "      <td>...</td>\n",
       "      <td>...</td>\n",
       "      <td>...</td>\n",
       "      <td>...</td>\n",
       "      <td>...</td>\n",
       "      <td>...</td>\n",
       "      <td>...</td>\n",
       "    </tr>\n",
       "    <tr>\n",
       "      <th>3102</th>\n",
       "      <td>80</td>\n",
       "      <td>3</td>\n",
       "      <td>35</td>\n",
       "      <td>1</td>\n",
       "      <td>1</td>\n",
       "      <td>1</td>\n",
       "      <td>1</td>\n",
       "    </tr>\n",
       "    <tr>\n",
       "      <th>3103</th>\n",
       "      <td>80</td>\n",
       "      <td>2</td>\n",
       "      <td>36</td>\n",
       "      <td>3</td>\n",
       "      <td>1</td>\n",
       "      <td>1</td>\n",
       "      <td>1</td>\n",
       "    </tr>\n",
       "    <tr>\n",
       "      <th>3104</th>\n",
       "      <td>80</td>\n",
       "      <td>1</td>\n",
       "      <td>39</td>\n",
       "      <td>3</td>\n",
       "      <td>3</td>\n",
       "      <td></td>\n",
       "      <td>3</td>\n",
       "    </tr>\n",
       "    <tr>\n",
       "      <th>3105</th>\n",
       "      <td>80</td>\n",
       "      <td>1</td>\n",
       "      <td>23</td>\n",
       "      <td>3</td>\n",
       "      <td>1</td>\n",
       "      <td>1</td>\n",
       "      <td>2</td>\n",
       "    </tr>\n",
       "    <tr>\n",
       "      <th>3106</th>\n",
       "      <td>80</td>\n",
       "      <td>1</td>\n",
       "      <td>23</td>\n",
       "      <td>9</td>\n",
       "      <td>3</td>\n",
       "      <td></td>\n",
       "      <td>2</td>\n",
       "    </tr>\n",
       "  </tbody>\n",
       "</table>\n",
       "<p>3107 rows × 7 columns</p>\n",
       "</div>"
      ],
      "text/plain": [
       "      V1  C3  C5 C8 B3 B4  B6\n",
       "0      5   1  24  3  2  2   1\n",
       "1      5   2  26  4  1  1   1\n",
       "2      5   3  30  3  1  1   1\n",
       "3      5   2  38  4  1  1   1\n",
       "4      5   2  26  2  1  1   1\n",
       "...   ..  ..  .. .. .. ..  ..\n",
       "3102  80   3  35  1  1  1   1\n",
       "3103  80   2  36  3  1  1   1\n",
       "3104  80   1  39  3  3      3\n",
       "3105  80   1  23  3  1  1   2\n",
       "3106  80   1  23  9  3      2\n",
       "\n",
       "[3107 rows x 7 columns]"
      ]
     },
     "execution_count": 15,
     "metadata": {},
     "output_type": "execute_result"
    }
   ],
   "source": [
    "task1_df"
   ]
  },
  {
   "cell_type": "code",
   "execution_count": 16,
   "metadata": {},
   "outputs": [],
   "source": [
    "def informed_new(row):\n",
    "    try:\n",
    "        temp=row[0]+row[1]+row[2]\n",
    "        if temp > 4:\n",
    "            return 1\n",
    "        else:\n",
    "            return 0\n",
    "    except:\n",
    "        return 1"
   ]
  },
  {
   "cell_type": "code",
   "execution_count": 17,
   "metadata": {},
   "outputs": [],
   "source": [
    "task1_df['informed'] = task1_df[['B3', 'B4', 'B6']].apply(informed_new,  axis=1)"
   ]
  },
  {
   "cell_type": "code",
   "execution_count": 18,
   "metadata": {},
   "outputs": [],
   "source": [
    "data_model = task1_df.drop(columns=['B3', 'B4', 'B6'])"
   ]
  },
  {
   "cell_type": "code",
   "execution_count": 19,
   "metadata": {},
   "outputs": [],
   "source": [
    "region = {\"1_reg\" : [12 , 80, 63, 46, 51, 32] ,\n",
    "        \"2_reg\" : [23, 5, 53, 26, 68, 21],\n",
    "        \"3_reg\" : [18, 71, 56, 48, 59, 61],\n",
    "        \"4_reg\" : [65, 7, 74, 35, 73]}"
   ]
  },
  {
   "cell_type": "code",
   "execution_count": 20,
   "metadata": {},
   "outputs": [
    {
     "data": {
      "text/plain": [
       "dict_keys(['1_reg', '2_reg', '3_reg', '4_reg'])"
      ]
     },
     "execution_count": 20,
     "metadata": {},
     "output_type": "execute_result"
    }
   ],
   "source": [
    "region.keys()"
   ]
  },
  {
   "cell_type": "code",
   "execution_count": 21,
   "metadata": {},
   "outputs": [],
   "source": [
    "def region_ch(row):\n",
    "    for reg in region.keys():\n",
    "        if row in region[reg]:\n",
    "            return reg"
   ]
  },
  {
   "cell_type": "code",
   "execution_count": 22,
   "metadata": {},
   "outputs": [],
   "source": [
    "data_model['region'] = data_model['V1'].apply(region_ch)"
   ]
  },
  {
   "cell_type": "code",
   "execution_count": 23,
   "metadata": {},
   "outputs": [
    {
     "name": "stdout",
     "output_type": "stream",
     "text": [
      "2_reg : 712  22.91599613775346\n",
      "4_reg : 529  17.026070164145477\n",
      "1_reg : 1118  35.98326359832636\n",
      "3_reg : 748  24.074670099774703\n"
     ]
    }
   ],
   "source": [
    "for i in data_model['region'].unique():\n",
    "    print(f'{i} : { len(data_model[data_model[\"region\"]==i]) }  { len(data_model[data_model[\"region\"]==i])*100/len(data_model) }')"
   ]
  },
  {
   "cell_type": "code",
   "execution_count": 24,
   "metadata": {},
   "outputs": [],
   "source": [
    "data_model.drop(columns = ['V1'], inplace = True)"
   ]
  },
  {
   "cell_type": "code",
   "execution_count": 25,
   "metadata": {},
   "outputs": [
    {
     "data": {
      "text/html": [
       "<div>\n",
       "<style scoped>\n",
       "    .dataframe tbody tr th:only-of-type {\n",
       "        vertical-align: middle;\n",
       "    }\n",
       "\n",
       "    .dataframe tbody tr th {\n",
       "        vertical-align: top;\n",
       "    }\n",
       "\n",
       "    .dataframe thead th {\n",
       "        text-align: right;\n",
       "    }\n",
       "</style>\n",
       "<table border=\"1\" class=\"dataframe\">\n",
       "  <thead>\n",
       "    <tr style=\"text-align: right;\">\n",
       "      <th></th>\n",
       "      <th>C3</th>\n",
       "      <th>C5</th>\n",
       "      <th>C8</th>\n",
       "      <th>informed</th>\n",
       "      <th>region</th>\n",
       "    </tr>\n",
       "  </thead>\n",
       "  <tbody>\n",
       "    <tr>\n",
       "      <th>0</th>\n",
       "      <td>1</td>\n",
       "      <td>24</td>\n",
       "      <td>3</td>\n",
       "      <td>1</td>\n",
       "      <td>2_reg</td>\n",
       "    </tr>\n",
       "    <tr>\n",
       "      <th>1</th>\n",
       "      <td>2</td>\n",
       "      <td>26</td>\n",
       "      <td>4</td>\n",
       "      <td>0</td>\n",
       "      <td>2_reg</td>\n",
       "    </tr>\n",
       "    <tr>\n",
       "      <th>2</th>\n",
       "      <td>3</td>\n",
       "      <td>30</td>\n",
       "      <td>3</td>\n",
       "      <td>0</td>\n",
       "      <td>2_reg</td>\n",
       "    </tr>\n",
       "    <tr>\n",
       "      <th>3</th>\n",
       "      <td>2</td>\n",
       "      <td>38</td>\n",
       "      <td>4</td>\n",
       "      <td>0</td>\n",
       "      <td>2_reg</td>\n",
       "    </tr>\n",
       "    <tr>\n",
       "      <th>4</th>\n",
       "      <td>2</td>\n",
       "      <td>26</td>\n",
       "      <td>2</td>\n",
       "      <td>0</td>\n",
       "      <td>2_reg</td>\n",
       "    </tr>\n",
       "    <tr>\n",
       "      <th>...</th>\n",
       "      <td>...</td>\n",
       "      <td>...</td>\n",
       "      <td>...</td>\n",
       "      <td>...</td>\n",
       "      <td>...</td>\n",
       "    </tr>\n",
       "    <tr>\n",
       "      <th>3102</th>\n",
       "      <td>3</td>\n",
       "      <td>35</td>\n",
       "      <td>1</td>\n",
       "      <td>0</td>\n",
       "      <td>1_reg</td>\n",
       "    </tr>\n",
       "    <tr>\n",
       "      <th>3103</th>\n",
       "      <td>2</td>\n",
       "      <td>36</td>\n",
       "      <td>3</td>\n",
       "      <td>0</td>\n",
       "      <td>1_reg</td>\n",
       "    </tr>\n",
       "    <tr>\n",
       "      <th>3104</th>\n",
       "      <td>1</td>\n",
       "      <td>39</td>\n",
       "      <td>3</td>\n",
       "      <td>1</td>\n",
       "      <td>1_reg</td>\n",
       "    </tr>\n",
       "    <tr>\n",
       "      <th>3105</th>\n",
       "      <td>1</td>\n",
       "      <td>23</td>\n",
       "      <td>3</td>\n",
       "      <td>0</td>\n",
       "      <td>1_reg</td>\n",
       "    </tr>\n",
       "    <tr>\n",
       "      <th>3106</th>\n",
       "      <td>1</td>\n",
       "      <td>23</td>\n",
       "      <td>9</td>\n",
       "      <td>1</td>\n",
       "      <td>1_reg</td>\n",
       "    </tr>\n",
       "  </tbody>\n",
       "</table>\n",
       "<p>3107 rows × 5 columns</p>\n",
       "</div>"
      ],
      "text/plain": [
       "      C3  C5 C8  informed region\n",
       "0      1  24  3         1  2_reg\n",
       "1      2  26  4         0  2_reg\n",
       "2      3  30  3         0  2_reg\n",
       "3      2  38  4         0  2_reg\n",
       "4      2  26  2         0  2_reg\n",
       "...   ..  .. ..       ...    ...\n",
       "3102   3  35  1         0  1_reg\n",
       "3103   2  36  3         0  1_reg\n",
       "3104   1  39  3         1  1_reg\n",
       "3105   1  23  3         0  1_reg\n",
       "3106   1  23  9         1  1_reg\n",
       "\n",
       "[3107 rows x 5 columns]"
      ]
     },
     "execution_count": 25,
     "metadata": {},
     "output_type": "execute_result"
    }
   ],
   "source": [
    "data_model"
   ]
  },
  {
   "cell_type": "code",
   "execution_count": 26,
   "metadata": {},
   "outputs": [
    {
     "name": "stderr",
     "output_type": "stream",
     "text": [
      "C:\\Users\\Nastya\\anaconda3\\lib\\site-packages\\ipykernel_launcher.py:4: SettingWithCopyWarning: \n",
      "A value is trying to be set on a copy of a slice from a DataFrame.\n",
      "Try using .loc[row_indexer,col_indexer] = value instead\n",
      "\n",
      "See the caveats in the documentation: https://pandas.pydata.org/pandas-docs/stable/user_guide/indexing.html#returning-a-view-versus-a-copy\n",
      "  after removing the cwd from sys.path.\n"
     ]
    }
   ],
   "source": [
    "data_model['C3'].replace({1: 'first', 2:'second', 3:'third_p'}, inplace =True)\n",
    "data_model['C8'].replace({1: 'poor_l', 2:'poor_h', 3:'midle_l', 4:'midle_h', 5:'rich', 9:'none'}, inplace =True)\n",
    "data_model = data_model[data_model['C5'] != ' ']\n",
    "data_model['C5'] = data_model['C5'].astype(int)"
   ]
  },
  {
   "cell_type": "code",
   "execution_count": 27,
   "metadata": {},
   "outputs": [
    {
     "data": {
      "text/html": [
       "<div>\n",
       "<style scoped>\n",
       "    .dataframe tbody tr th:only-of-type {\n",
       "        vertical-align: middle;\n",
       "    }\n",
       "\n",
       "    .dataframe tbody tr th {\n",
       "        vertical-align: top;\n",
       "    }\n",
       "\n",
       "    .dataframe thead th {\n",
       "        text-align: right;\n",
       "    }\n",
       "</style>\n",
       "<table border=\"1\" class=\"dataframe\">\n",
       "  <thead>\n",
       "    <tr style=\"text-align: right;\">\n",
       "      <th></th>\n",
       "      <th>C3</th>\n",
       "      <th>C5</th>\n",
       "      <th>C8</th>\n",
       "      <th>informed</th>\n",
       "      <th>region</th>\n",
       "    </tr>\n",
       "  </thead>\n",
       "  <tbody>\n",
       "    <tr>\n",
       "      <th>0</th>\n",
       "      <td>first</td>\n",
       "      <td>24</td>\n",
       "      <td>midle_l</td>\n",
       "      <td>1</td>\n",
       "      <td>2_reg</td>\n",
       "    </tr>\n",
       "    <tr>\n",
       "      <th>1</th>\n",
       "      <td>second</td>\n",
       "      <td>26</td>\n",
       "      <td>midle_h</td>\n",
       "      <td>0</td>\n",
       "      <td>2_reg</td>\n",
       "    </tr>\n",
       "    <tr>\n",
       "      <th>2</th>\n",
       "      <td>third_p</td>\n",
       "      <td>30</td>\n",
       "      <td>midle_l</td>\n",
       "      <td>0</td>\n",
       "      <td>2_reg</td>\n",
       "    </tr>\n",
       "    <tr>\n",
       "      <th>3</th>\n",
       "      <td>second</td>\n",
       "      <td>38</td>\n",
       "      <td>midle_h</td>\n",
       "      <td>0</td>\n",
       "      <td>2_reg</td>\n",
       "    </tr>\n",
       "    <tr>\n",
       "      <th>4</th>\n",
       "      <td>second</td>\n",
       "      <td>26</td>\n",
       "      <td>poor_h</td>\n",
       "      <td>0</td>\n",
       "      <td>2_reg</td>\n",
       "    </tr>\n",
       "    <tr>\n",
       "      <th>...</th>\n",
       "      <td>...</td>\n",
       "      <td>...</td>\n",
       "      <td>...</td>\n",
       "      <td>...</td>\n",
       "      <td>...</td>\n",
       "    </tr>\n",
       "    <tr>\n",
       "      <th>3102</th>\n",
       "      <td>third_p</td>\n",
       "      <td>35</td>\n",
       "      <td>poor_l</td>\n",
       "      <td>0</td>\n",
       "      <td>1_reg</td>\n",
       "    </tr>\n",
       "    <tr>\n",
       "      <th>3103</th>\n",
       "      <td>second</td>\n",
       "      <td>36</td>\n",
       "      <td>midle_l</td>\n",
       "      <td>0</td>\n",
       "      <td>1_reg</td>\n",
       "    </tr>\n",
       "    <tr>\n",
       "      <th>3104</th>\n",
       "      <td>first</td>\n",
       "      <td>39</td>\n",
       "      <td>midle_l</td>\n",
       "      <td>1</td>\n",
       "      <td>1_reg</td>\n",
       "    </tr>\n",
       "    <tr>\n",
       "      <th>3105</th>\n",
       "      <td>first</td>\n",
       "      <td>23</td>\n",
       "      <td>midle_l</td>\n",
       "      <td>0</td>\n",
       "      <td>1_reg</td>\n",
       "    </tr>\n",
       "    <tr>\n",
       "      <th>3106</th>\n",
       "      <td>first</td>\n",
       "      <td>23</td>\n",
       "      <td>none</td>\n",
       "      <td>1</td>\n",
       "      <td>1_reg</td>\n",
       "    </tr>\n",
       "  </tbody>\n",
       "</table>\n",
       "<p>3094 rows × 5 columns</p>\n",
       "</div>"
      ],
      "text/plain": [
       "           C3  C5       C8  informed region\n",
       "0       first  24  midle_l         1  2_reg\n",
       "1      second  26  midle_h         0  2_reg\n",
       "2     third_p  30  midle_l         0  2_reg\n",
       "3      second  38  midle_h         0  2_reg\n",
       "4      second  26   poor_h         0  2_reg\n",
       "...       ...  ..      ...       ...    ...\n",
       "3102  third_p  35   poor_l         0  1_reg\n",
       "3103   second  36  midle_l         0  1_reg\n",
       "3104    first  39  midle_l         1  1_reg\n",
       "3105    first  23  midle_l         0  1_reg\n",
       "3106    first  23     none         1  1_reg\n",
       "\n",
       "[3094 rows x 5 columns]"
      ]
     },
     "execution_count": 27,
     "metadata": {},
     "output_type": "execute_result"
    }
   ],
   "source": [
    "data_model"
   ]
  },
  {
   "cell_type": "code",
   "execution_count": 31,
   "metadata": {},
   "outputs": [],
   "source": [
    "breaks_adj = {\n",
    "    'region': [\"1_reg\",\"2_reg\",\"3_reg\",\"4_reg\"]\n",
    "}"
   ]
  },
  {
   "cell_type": "code",
   "execution_count": 32,
   "metadata": {},
   "outputs": [
    {
     "name": "stdout",
     "output_type": "stream",
     "text": [
      "[INFO] creating woe binning ...\n"
     ]
    }
   ],
   "source": [
    "bins = sc.woebin(data_model, y=\"informed\", breaks_list=breaks_adj)"
   ]
  },
  {
   "cell_type": "code",
   "execution_count": 33,
   "metadata": {},
   "outputs": [
    {
     "data": {
      "text/html": [
       "<div>\n",
       "<style scoped>\n",
       "    .dataframe tbody tr th:only-of-type {\n",
       "        vertical-align: middle;\n",
       "    }\n",
       "\n",
       "    .dataframe tbody tr th {\n",
       "        vertical-align: top;\n",
       "    }\n",
       "\n",
       "    .dataframe thead th {\n",
       "        text-align: right;\n",
       "    }\n",
       "</style>\n",
       "<table border=\"1\" class=\"dataframe\">\n",
       "  <thead>\n",
       "    <tr style=\"text-align: right;\">\n",
       "      <th></th>\n",
       "      <th>variable</th>\n",
       "      <th>bin</th>\n",
       "      <th>count</th>\n",
       "      <th>count_distr</th>\n",
       "      <th>good</th>\n",
       "      <th>bad</th>\n",
       "      <th>badprob</th>\n",
       "      <th>woe</th>\n",
       "      <th>bin_iv</th>\n",
       "      <th>total_iv</th>\n",
       "      <th>breaks</th>\n",
       "      <th>is_special_values</th>\n",
       "    </tr>\n",
       "  </thead>\n",
       "  <tbody>\n",
       "    <tr>\n",
       "      <th>0</th>\n",
       "      <td>region</td>\n",
       "      <td>1_reg</td>\n",
       "      <td>1113</td>\n",
       "      <td>0.359729</td>\n",
       "      <td>681</td>\n",
       "      <td>432</td>\n",
       "      <td>0.388140</td>\n",
       "      <td>0.168025</td>\n",
       "      <td>0.010395</td>\n",
       "      <td>0.076728</td>\n",
       "      <td>1_reg</td>\n",
       "      <td>False</td>\n",
       "    </tr>\n",
       "    <tr>\n",
       "      <th>1</th>\n",
       "      <td>region</td>\n",
       "      <td>2_reg</td>\n",
       "      <td>710</td>\n",
       "      <td>0.229476</td>\n",
       "      <td>538</td>\n",
       "      <td>172</td>\n",
       "      <td>0.242254</td>\n",
       "      <td>-0.517202</td>\n",
       "      <td>0.055791</td>\n",
       "      <td>0.076728</td>\n",
       "      <td>2_reg</td>\n",
       "      <td>False</td>\n",
       "    </tr>\n",
       "    <tr>\n",
       "      <th>2</th>\n",
       "      <td>region</td>\n",
       "      <td>3_reg</td>\n",
       "      <td>743</td>\n",
       "      <td>0.240142</td>\n",
       "      <td>448</td>\n",
       "      <td>295</td>\n",
       "      <td>0.397039</td>\n",
       "      <td>0.205344</td>\n",
       "      <td>0.010412</td>\n",
       "      <td>0.076728</td>\n",
       "      <td>3_reg</td>\n",
       "      <td>False</td>\n",
       "    </tr>\n",
       "    <tr>\n",
       "      <th>3</th>\n",
       "      <td>region</td>\n",
       "      <td>4_reg</td>\n",
       "      <td>528</td>\n",
       "      <td>0.170653</td>\n",
       "      <td>347</td>\n",
       "      <td>181</td>\n",
       "      <td>0.342803</td>\n",
       "      <td>-0.027666</td>\n",
       "      <td>0.000130</td>\n",
       "      <td>0.076728</td>\n",
       "      <td>4_reg</td>\n",
       "      <td>False</td>\n",
       "    </tr>\n",
       "  </tbody>\n",
       "</table>\n",
       "</div>"
      ],
      "text/plain": [
       "  variable    bin  count  count_distr  good  bad   badprob       woe  \\\n",
       "0   region  1_reg   1113     0.359729   681  432  0.388140  0.168025   \n",
       "1   region  2_reg    710     0.229476   538  172  0.242254 -0.517202   \n",
       "2   region  3_reg    743     0.240142   448  295  0.397039  0.205344   \n",
       "3   region  4_reg    528     0.170653   347  181  0.342803 -0.027666   \n",
       "\n",
       "     bin_iv  total_iv breaks  is_special_values  \n",
       "0  0.010395  0.076728  1_reg              False  \n",
       "1  0.055791  0.076728  2_reg              False  \n",
       "2  0.010412  0.076728  3_reg              False  \n",
       "3  0.000130  0.076728  4_reg              False  "
      ]
     },
     "execution_count": 33,
     "metadata": {},
     "output_type": "execute_result"
    }
   ],
   "source": [
    "bins['region']"
   ]
  },
  {
   "cell_type": "code",
   "execution_count": 34,
   "metadata": {},
   "outputs": [
    {
     "data": {
      "text/html": [
       "<div>\n",
       "<style scoped>\n",
       "    .dataframe tbody tr th:only-of-type {\n",
       "        vertical-align: middle;\n",
       "    }\n",
       "\n",
       "    .dataframe tbody tr th {\n",
       "        vertical-align: top;\n",
       "    }\n",
       "\n",
       "    .dataframe thead th {\n",
       "        text-align: right;\n",
       "    }\n",
       "</style>\n",
       "<table border=\"1\" class=\"dataframe\">\n",
       "  <thead>\n",
       "    <tr style=\"text-align: right;\">\n",
       "      <th></th>\n",
       "      <th>variable</th>\n",
       "      <th>bin</th>\n",
       "      <th>count</th>\n",
       "      <th>count_distr</th>\n",
       "      <th>good</th>\n",
       "      <th>bad</th>\n",
       "      <th>badprob</th>\n",
       "      <th>woe</th>\n",
       "      <th>bin_iv</th>\n",
       "      <th>total_iv</th>\n",
       "      <th>breaks</th>\n",
       "      <th>is_special_values</th>\n",
       "    </tr>\n",
       "  </thead>\n",
       "  <tbody>\n",
       "    <tr>\n",
       "      <th>0</th>\n",
       "      <td>C3</td>\n",
       "      <td>third_p</td>\n",
       "      <td>428</td>\n",
       "      <td>0.138332</td>\n",
       "      <td>344</td>\n",
       "      <td>84</td>\n",
       "      <td>0.196262</td>\n",
       "      <td>-0.786663</td>\n",
       "      <td>0.073181</td>\n",
       "      <td>0.199968</td>\n",
       "      <td>third_p</td>\n",
       "      <td>False</td>\n",
       "    </tr>\n",
       "    <tr>\n",
       "      <th>1</th>\n",
       "      <td>C3</td>\n",
       "      <td>second</td>\n",
       "      <td>1141</td>\n",
       "      <td>0.368778</td>\n",
       "      <td>826</td>\n",
       "      <td>315</td>\n",
       "      <td>0.276074</td>\n",
       "      <td>-0.340860</td>\n",
       "      <td>0.040379</td>\n",
       "      <td>0.199968</td>\n",
       "      <td>second</td>\n",
       "      <td>False</td>\n",
       "    </tr>\n",
       "    <tr>\n",
       "      <th>2</th>\n",
       "      <td>C3</td>\n",
       "      <td>first</td>\n",
       "      <td>1525</td>\n",
       "      <td>0.492889</td>\n",
       "      <td>844</td>\n",
       "      <td>681</td>\n",
       "      <td>0.446557</td>\n",
       "      <td>0.408572</td>\n",
       "      <td>0.086408</td>\n",
       "      <td>0.199968</td>\n",
       "      <td>first</td>\n",
       "      <td>False</td>\n",
       "    </tr>\n",
       "  </tbody>\n",
       "</table>\n",
       "</div>"
      ],
      "text/plain": [
       "  variable      bin  count  count_distr  good  bad   badprob       woe  \\\n",
       "0       C3  third_p    428     0.138332   344   84  0.196262 -0.786663   \n",
       "1       C3   second   1141     0.368778   826  315  0.276074 -0.340860   \n",
       "2       C3    first   1525     0.492889   844  681  0.446557  0.408572   \n",
       "\n",
       "     bin_iv  total_iv   breaks  is_special_values  \n",
       "0  0.073181  0.199968  third_p              False  \n",
       "1  0.040379  0.199968   second              False  \n",
       "2  0.086408  0.199968    first              False  "
      ]
     },
     "execution_count": 34,
     "metadata": {},
     "output_type": "execute_result"
    }
   ],
   "source": [
    "bins['C3']"
   ]
  },
  {
   "cell_type": "code",
   "execution_count": 35,
   "metadata": {},
   "outputs": [
    {
     "data": {
      "text/html": [
       "<div>\n",
       "<style scoped>\n",
       "    .dataframe tbody tr th:only-of-type {\n",
       "        vertical-align: middle;\n",
       "    }\n",
       "\n",
       "    .dataframe tbody tr th {\n",
       "        vertical-align: top;\n",
       "    }\n",
       "\n",
       "    .dataframe thead th {\n",
       "        text-align: right;\n",
       "    }\n",
       "</style>\n",
       "<table border=\"1\" class=\"dataframe\">\n",
       "  <thead>\n",
       "    <tr style=\"text-align: right;\">\n",
       "      <th></th>\n",
       "      <th>variable</th>\n",
       "      <th>bin</th>\n",
       "      <th>count</th>\n",
       "      <th>count_distr</th>\n",
       "      <th>good</th>\n",
       "      <th>bad</th>\n",
       "      <th>badprob</th>\n",
       "      <th>woe</th>\n",
       "      <th>bin_iv</th>\n",
       "      <th>total_iv</th>\n",
       "      <th>breaks</th>\n",
       "      <th>is_special_values</th>\n",
       "    </tr>\n",
       "  </thead>\n",
       "  <tbody>\n",
       "    <tr>\n",
       "      <th>0</th>\n",
       "      <td>C5</td>\n",
       "      <td>[-inf,22.0)</td>\n",
       "      <td>379</td>\n",
       "      <td>0.122495</td>\n",
       "      <td>226</td>\n",
       "      <td>153</td>\n",
       "      <td>0.403694</td>\n",
       "      <td>0.233065</td>\n",
       "      <td>0.006864</td>\n",
       "      <td>0.025754</td>\n",
       "      <td>22.0</td>\n",
       "      <td>False</td>\n",
       "    </tr>\n",
       "    <tr>\n",
       "      <th>1</th>\n",
       "      <td>C5</td>\n",
       "      <td>[22.0,28.0)</td>\n",
       "      <td>1097</td>\n",
       "      <td>0.354557</td>\n",
       "      <td>697</td>\n",
       "      <td>400</td>\n",
       "      <td>0.364631</td>\n",
       "      <td>0.067841</td>\n",
       "      <td>0.001648</td>\n",
       "      <td>0.025754</td>\n",
       "      <td>28.0</td>\n",
       "      <td>False</td>\n",
       "    </tr>\n",
       "    <tr>\n",
       "      <th>2</th>\n",
       "      <td>C5</td>\n",
       "      <td>[28.0,30.0)</td>\n",
       "      <td>420</td>\n",
       "      <td>0.135747</td>\n",
       "      <td>276</td>\n",
       "      <td>144</td>\n",
       "      <td>0.342857</td>\n",
       "      <td>-0.027426</td>\n",
       "      <td>0.000102</td>\n",
       "      <td>0.025754</td>\n",
       "      <td>30.0</td>\n",
       "      <td>False</td>\n",
       "    </tr>\n",
       "    <tr>\n",
       "      <th>3</th>\n",
       "      <td>C5</td>\n",
       "      <td>[30.0,32.0)</td>\n",
       "      <td>371</td>\n",
       "      <td>0.119910</td>\n",
       "      <td>263</td>\n",
       "      <td>108</td>\n",
       "      <td>0.291105</td>\n",
       "      <td>-0.266861</td>\n",
       "      <td>0.008162</td>\n",
       "      <td>0.025754</td>\n",
       "      <td>32.0</td>\n",
       "      <td>False</td>\n",
       "    </tr>\n",
       "    <tr>\n",
       "      <th>4</th>\n",
       "      <td>C5</td>\n",
       "      <td>[32.0,38.0)</td>\n",
       "      <td>655</td>\n",
       "      <td>0.211700</td>\n",
       "      <td>450</td>\n",
       "      <td>205</td>\n",
       "      <td>0.312977</td>\n",
       "      <td>-0.163076</td>\n",
       "      <td>0.005483</td>\n",
       "      <td>0.025754</td>\n",
       "      <td>38.0</td>\n",
       "      <td>False</td>\n",
       "    </tr>\n",
       "    <tr>\n",
       "      <th>5</th>\n",
       "      <td>C5</td>\n",
       "      <td>[38.0,inf)</td>\n",
       "      <td>172</td>\n",
       "      <td>0.055591</td>\n",
       "      <td>102</td>\n",
       "      <td>70</td>\n",
       "      <td>0.406977</td>\n",
       "      <td>0.246684</td>\n",
       "      <td>0.003495</td>\n",
       "      <td>0.025754</td>\n",
       "      <td>inf</td>\n",
       "      <td>False</td>\n",
       "    </tr>\n",
       "  </tbody>\n",
       "</table>\n",
       "</div>"
      ],
      "text/plain": [
       "  variable          bin  count  count_distr  good  bad   badprob       woe  \\\n",
       "0       C5  [-inf,22.0)    379     0.122495   226  153  0.403694  0.233065   \n",
       "1       C5  [22.0,28.0)   1097     0.354557   697  400  0.364631  0.067841   \n",
       "2       C5  [28.0,30.0)    420     0.135747   276  144  0.342857 -0.027426   \n",
       "3       C5  [30.0,32.0)    371     0.119910   263  108  0.291105 -0.266861   \n",
       "4       C5  [32.0,38.0)    655     0.211700   450  205  0.312977 -0.163076   \n",
       "5       C5   [38.0,inf)    172     0.055591   102   70  0.406977  0.246684   \n",
       "\n",
       "     bin_iv  total_iv breaks  is_special_values  \n",
       "0  0.006864  0.025754   22.0              False  \n",
       "1  0.001648  0.025754   28.0              False  \n",
       "2  0.000102  0.025754   30.0              False  \n",
       "3  0.008162  0.025754   32.0              False  \n",
       "4  0.005483  0.025754   38.0              False  \n",
       "5  0.003495  0.025754    inf              False  "
      ]
     },
     "execution_count": 35,
     "metadata": {},
     "output_type": "execute_result"
    }
   ],
   "source": [
    "bins['C5']"
   ]
  },
  {
   "cell_type": "code",
   "execution_count": 36,
   "metadata": {},
   "outputs": [
    {
     "data": {
      "text/html": [
       "<div>\n",
       "<style scoped>\n",
       "    .dataframe tbody tr th:only-of-type {\n",
       "        vertical-align: middle;\n",
       "    }\n",
       "\n",
       "    .dataframe tbody tr th {\n",
       "        vertical-align: top;\n",
       "    }\n",
       "\n",
       "    .dataframe thead th {\n",
       "        text-align: right;\n",
       "    }\n",
       "</style>\n",
       "<table border=\"1\" class=\"dataframe\">\n",
       "  <thead>\n",
       "    <tr style=\"text-align: right;\">\n",
       "      <th></th>\n",
       "      <th>variable</th>\n",
       "      <th>bin</th>\n",
       "      <th>count</th>\n",
       "      <th>count_distr</th>\n",
       "      <th>good</th>\n",
       "      <th>bad</th>\n",
       "      <th>badprob</th>\n",
       "      <th>woe</th>\n",
       "      <th>bin_iv</th>\n",
       "      <th>total_iv</th>\n",
       "      <th>breaks</th>\n",
       "      <th>is_special_values</th>\n",
       "    </tr>\n",
       "  </thead>\n",
       "  <tbody>\n",
       "    <tr>\n",
       "      <th>0</th>\n",
       "      <td>C8</td>\n",
       "      <td>rich%,%none%,%poor_l%,%midle_l</td>\n",
       "      <td>1882</td>\n",
       "      <td>0.608274</td>\n",
       "      <td>1254</td>\n",
       "      <td>628</td>\n",
       "      <td>0.333688</td>\n",
       "      <td>-0.068392</td>\n",
       "      <td>0.002815</td>\n",
       "      <td>0.007619</td>\n",
       "      <td>rich%,%none%,%poor_l%,%midle_l</td>\n",
       "      <td>False</td>\n",
       "    </tr>\n",
       "    <tr>\n",
       "      <th>1</th>\n",
       "      <td>C8</td>\n",
       "      <td>midle_h</td>\n",
       "      <td>337</td>\n",
       "      <td>0.108920</td>\n",
       "      <td>216</td>\n",
       "      <td>121</td>\n",
       "      <td>0.359050</td>\n",
       "      <td>0.043674</td>\n",
       "      <td>0.000209</td>\n",
       "      <td>0.007619</td>\n",
       "      <td>midle_h</td>\n",
       "      <td>False</td>\n",
       "    </tr>\n",
       "    <tr>\n",
       "      <th>2</th>\n",
       "      <td>C8</td>\n",
       "      <td>poor_h</td>\n",
       "      <td>875</td>\n",
       "      <td>0.282805</td>\n",
       "      <td>544</td>\n",
       "      <td>331</td>\n",
       "      <td>0.378286</td>\n",
       "      <td>0.126331</td>\n",
       "      <td>0.004595</td>\n",
       "      <td>0.007619</td>\n",
       "      <td>poor_h</td>\n",
       "      <td>False</td>\n",
       "    </tr>\n",
       "  </tbody>\n",
       "</table>\n",
       "</div>"
      ],
      "text/plain": [
       "  variable                             bin  count  count_distr  good  bad  \\\n",
       "0       C8  rich%,%none%,%poor_l%,%midle_l   1882     0.608274  1254  628   \n",
       "1       C8                         midle_h    337     0.108920   216  121   \n",
       "2       C8                          poor_h    875     0.282805   544  331   \n",
       "\n",
       "    badprob       woe    bin_iv  total_iv                          breaks  \\\n",
       "0  0.333688 -0.068392  0.002815  0.007619  rich%,%none%,%poor_l%,%midle_l   \n",
       "1  0.359050  0.043674  0.000209  0.007619                         midle_h   \n",
       "2  0.378286  0.126331  0.004595  0.007619                          poor_h   \n",
       "\n",
       "   is_special_values  \n",
       "0              False  \n",
       "1              False  \n",
       "2              False  "
      ]
     },
     "execution_count": 36,
     "metadata": {},
     "output_type": "execute_result"
    }
   ],
   "source": [
    "bins['C8']"
   ]
  },
  {
   "cell_type": "code",
   "execution_count": 37,
   "metadata": {},
   "outputs": [
    {
     "data": {
      "text/plain": [
       "{'region': <Figure size 432x288 with 2 Axes>,\n",
       " 'C8': <Figure size 432x288 with 2 Axes>,\n",
       " 'C5': <Figure size 432x288 with 2 Axes>,\n",
       " 'C3': <Figure size 432x288 with 2 Axes>}"
      ]
     },
     "execution_count": 37,
     "metadata": {},
     "output_type": "execute_result"
    },
    {
     "data": {
      "image/png": "[encoded data removed]",
      "text/plain": [
       "<Figure size 432x288 with 2 Axes>"
      ]
     },
     "metadata": {
      "needs_background": "light"
     },
     "output_type": "display_data"
    },
    {
     "data": {
      "image/png": "[encoded data removed]",
      "text/plain": [
       "<Figure size 432x288 with 2 Axes>"
      ]
     },
     "metadata": {
      "needs_background": "light"
     },
     "output_type": "display_data"
    },
    {
     "data": {
      "image/png": "[encoded data removed]",
      "text/plain": [
       "<Figure size 432x288 with 2 Axes>"
      ]
     },
     "metadata": {
      "needs_background": "light"
     },
     "output_type": "display_data"
    },
    {
     "data": {
      "image/png": "[encoded data removed]",
      "text/plain": [
       "<Figure size 432x288 with 2 Axes>"
      ]
     },
     "metadata": {
      "needs_background": "light"
     },
     "output_type": "display_data"
    }
   ],
   "source": [
    "sc.woebin_plot(bins)"
   ]
  },
  {
   "cell_type": "code",
   "execution_count": 194,
   "metadata": {},
   "outputs": [
    {
     "name": "stdout",
     "output_type": "stream",
     "text": [
      "[INFO] converting into woe values ...\n"
     ]
    }
   ],
   "source": [
    "data_woe = sc.woebin_ply(data_model, bins)"
   ]
  },
  {
   "cell_type": "code",
   "execution_count": 197,
   "metadata": {},
   "outputs": [],
   "source": [
    "y_true = data_woe.pop('informed').values\n",
    "features = data_woe"
   ]
  },
  {
   "cell_type": "code",
   "execution_count": 200,
   "metadata": {},
   "outputs": [
    {
     "data": {
      "text/plain": [
       "LogisticRegression(C=1.0, class_weight=None, dual=False, fit_intercept=True,\n",
       "                   intercept_scaling=1, l1_ratio=None, max_iter=100,\n",
       "                   multi_class='auto', n_jobs=None, penalty='l2',\n",
       "                   random_state=None, solver='lbfgs', tol=0.0001, verbose=0,\n",
       "                   warm_start=False)"
      ]
     },
     "execution_count": 200,
     "metadata": {},
     "output_type": "execute_result"
    }
   ],
   "source": [
    "model = LogisticRegression()\n",
    "model.fit(features, y_true)"
   ]
  },
  {
   "cell_type": "code",
   "execution_count": 201,
   "metadata": {},
   "outputs": [],
   "source": [
    "model_pred = model.predict_proba(features)[:,1]"
   ]
  },
  {
   "cell_type": "code",
   "execution_count": 205,
   "metadata": {},
   "outputs": [],
   "source": [
    "fpr, tpr, thresholds = metrics.roc_curve(y_true, model_pred)\n",
    "auc = metrics.auc(fpr, tpr)"
   ]
  },
  {
   "cell_type": "code",
   "execution_count": 206,
   "metadata": {},
   "outputs": [
    {
     "name": "stdout",
     "output_type": "stream",
     "text": [
      "gini model: 30.1535%\n"
     ]
    }
   ],
   "source": [
    "print(f\"gini model: {round(100*((2 * auc) - 1), 4)}%\")"
   ]
  },
  {
   "cell_type": "code",
   "execution_count": 207,
   "metadata": {},
   "outputs": [
    {
     "data": {
      "image/png": "[encoded data removed]",
      "text/plain": [
       "<Figure size 554.4x554.4 with 1 Axes>"
      ]
     },
     "metadata": {
      "needs_background": "light"
     },
     "output_type": "display_data"
    }
   ],
   "source": [
    "fig, ax = plt.subplots()\n",
    "fig.set_size_inches(7.7, 7.7)\n",
    "\n",
    "plt.plot(fpr, tpr, label='LR')\n",
    "plt.plot([0, 1], [0, 1], 'k--')\n",
    "plt.xlabel('False positive rate')\n",
    "plt.ylabel('True positive rate')\n",
    "plt.title('ROC curve')\n",
    "plt.legend(loc='best')\n",
    "plt.show()"
   ]
  }
 ],
 "metadata": {
  "kernelspec": {
   "display_name": "Python 3",
   "language": "python",
   "name": "python3"
  },
  "language_info": {
   "codemirror_mode": {
    "name": "ipython",
    "version": 3
   },
   "file_extension": ".py",
   "mimetype": "text/x-python",
   "name": "python",
   "nbconvert_exporter": "python",
   "pygments_lexer": "ipython3",
   "version": "3.7.6"
  }
 },
 "nbformat": 4,
 "nbformat_minor": 4
}
